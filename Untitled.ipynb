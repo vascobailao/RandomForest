{
 "cells": [
  {
   "cell_type": "code",
   "execution_count": 1,
   "metadata": {},
   "outputs": [],
   "source": [
    "import pandas as pd\n",
    "import numpy as np"
   ]
  },
  {
   "cell_type": "code",
   "execution_count": 2,
   "metadata": {},
   "outputs": [
    {
     "name": "stdout",
     "output_type": "stream",
     "text": [
      "0.19.1\n"
     ]
    }
   ],
   "source": [
    "import sklearn\n",
    "print (sklearn.__version__)"
   ]
  },
  {
   "cell_type": "code",
   "execution_count": 37,
   "metadata": {},
   "outputs": [],
   "source": [
    "def load_data(train_set, test_set):\n",
    "    \n",
    "    df_train = pd.read_csv(train_set, header=None)\n",
    "    df_test = pd.read_csv(test_set, header=None)\n",
    "    \n",
    "    return df_train, df_test\n",
    "    "
   ]
  },
  {
   "cell_type": "code",
   "execution_count": 38,
   "metadata": {},
   "outputs": [],
   "source": [
    "df_train, df_test = load_data(\"train.csv\", \"test.csv\")"
   ]
  },
  {
   "cell_type": "code",
   "execution_count": 39,
   "metadata": {},
   "outputs": [],
   "source": [
    "def load_training_labels(labels_dir):\n",
    "    \n",
    "    df_labels = pd.read_csv(labels_dir, header=None)\n",
    "    return df_labels"
   ]
  },
  {
   "cell_type": "code",
   "execution_count": 40,
   "metadata": {},
   "outputs": [],
   "source": [
    "df_labels = load_training_labels(\"trainLabels.csv\")"
   ]
  },
  {
   "cell_type": "code",
   "execution_count": 41,
   "metadata": {},
   "outputs": [
    {
     "name": "stdout",
     "output_type": "stream",
     "text": [
      "(1000, 40)\n"
     ]
    }
   ],
   "source": [
    "print(df_train.shape)"
   ]
  },
  {
   "cell_type": "code",
   "execution_count": 42,
   "metadata": {},
   "outputs": [
    {
     "name": "stdout",
     "output_type": "stream",
     "text": [
      "(9000, 40)\n"
     ]
    }
   ],
   "source": [
    "print(df_test.shape)"
   ]
  },
  {
   "cell_type": "code",
   "execution_count": 25,
   "metadata": {},
   "outputs": [],
   "source": [
    "from sklearn.ensemble import RandomForestClassifier\n",
    "from sklearn.metrics import accuracy_score\n",
    "from sklearn.metrics import confusion_matrix"
   ]
  },
  {
   "cell_type": "code",
   "execution_count": 48,
   "metadata": {},
   "outputs": [],
   "source": [
    "def random_forest_classifier(features, target):\n",
    "    \n",
    "    clf = RandomForestClassifier()\n",
    "    clf.fit(features, target)\n",
    "    return clf\n",
    "\n"
   ]
  },
  {
   "cell_type": "code",
   "execution_count": 67,
   "metadata": {},
   "outputs": [],
   "source": [
    "def return_predictions(predictions):\n",
    "    columns=[\"Id\", \"Solution\"]\n",
    "    idss=[]\n",
    "    solution=[]\n",
    "    for i in range(9000):\n",
    "        idss.append(i+1)\n",
    "        solution.append(predictions[i])\n",
    "    \n",
    "    data = {'Id' : idss, 'Solution' : solution}\n",
    "    \n",
    "    final_df = pd.DataFrame(data=data, index=None)\n",
    "    return final_df\n",
    "    \n",
    "\n",
    "    "
   ]
  },
  {
   "cell_type": "code",
   "execution_count": 70,
   "metadata": {},
   "outputs": [],
   "source": [
    "def main():\n",
    "    \n",
    "    train_df, test_df = load_data(\"train.csv\", \"test.csv\")\n",
    "    train_df = train_df.as_matrix()\n",
    "    test_df = test_df.as_matrix()\n",
    "    df_labels = load_training_labels(\"trainLabels.csv\")\n",
    "    df_labels = df_labels.as_matrix().flatten()\n",
    "    clf = random_forest_classifier(train_df, df_labels)\n",
    "    \n",
    "    predictions = clf.predict(test_df)\n",
    "    print(predictions.shape)\n",
    "    \n",
    "    print (\"Train Accuracy :: \", accuracy_score(df_labels, clf.predict(train_df)))\n",
    "    \n",
    "    final_df = return_predictions(predictions)\n",
    "    return final_df"
   ]
  },
  {
   "cell_type": "code",
   "execution_count": 71,
   "metadata": {},
   "outputs": [
    {
     "name": "stdout",
     "output_type": "stream",
     "text": [
      "(9000,)\n",
      "Train Accuracy ::  0.995\n",
      "(9000, 2)\n",
      "   Id  Solution\n",
      "0   1         1\n",
      "1   2         0\n",
      "2   3         1\n",
      "3   4         0\n"
     ]
    }
   ],
   "source": [
    "if __name__ == \"__main__\":\n",
    "    main()"
   ]
  },
  {
   "cell_type": "code",
   "execution_count": null,
   "metadata": {},
   "outputs": [],
   "source": []
  }
 ],
 "metadata": {
  "kernelspec": {
   "display_name": "Python 3",
   "language": "python",
   "name": "python3"
  },
  "language_info": {
   "codemirror_mode": {
    "name": "ipython",
    "version": 3
   },
   "file_extension": ".py",
   "mimetype": "text/x-python",
   "name": "python",
   "nbconvert_exporter": "python",
   "pygments_lexer": "ipython3",
   "version": "3.6.3"
  }
 },
 "nbformat": 4,
 "nbformat_minor": 2
}
